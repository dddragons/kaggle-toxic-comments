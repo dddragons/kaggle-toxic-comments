{
 "cells": [
  {
   "cell_type": "markdown",
   "metadata": {},
   "source": [
    "# Pre-process the Comment_Text Train and Test Data\n",
    "In this notebook, we pre-process the train and text data of the toxic comments task. \n",
    "The first action is to extract the sentences from the text files. "
   ]
  },
  {
   "cell_type": "code",
   "execution_count": 23,
   "metadata": {
    "collapsed": true
   },
   "outputs": [],
   "source": [
    "import numpy as np\n",
    "import pandas as pd\n",
    "import matplotlib.pyplot as plt\n",
    "%matplotlib inline"
   ]
  },
  {
   "cell_type": "markdown",
   "metadata": {},
   "source": [
    "## Extract the Sentences from the Annotations"
   ]
  },
  {
   "cell_type": "code",
   "execution_count": 25,
   "metadata": {},
   "outputs": [
    {
     "data": {
      "text/plain": [
       "(159571, 8)"
      ]
     },
     "execution_count": 25,
     "metadata": {},
     "output_type": "execute_result"
    }
   ],
   "source": [
    "train_df = pd.read_csv(\"train.csv\")\n",
    "train_df.shape"
   ]
  },
  {
   "cell_type": "code",
   "execution_count": 26,
   "metadata": {},
   "outputs": [
    {
     "data": {
      "text/html": [
       "<div>\n",
       "<style>\n",
       "    .dataframe thead tr:only-child th {\n",
       "        text-align: right;\n",
       "    }\n",
       "\n",
       "    .dataframe thead th {\n",
       "        text-align: left;\n",
       "    }\n",
       "\n",
       "    .dataframe tbody tr th {\n",
       "        vertical-align: top;\n",
       "    }\n",
       "</style>\n",
       "<table border=\"1\" class=\"dataframe\">\n",
       "  <thead>\n",
       "    <tr style=\"text-align: right;\">\n",
       "      <th></th>\n",
       "      <th>id</th>\n",
       "      <th>comment_text</th>\n",
       "      <th>toxic</th>\n",
       "      <th>severe_toxic</th>\n",
       "      <th>obscene</th>\n",
       "      <th>threat</th>\n",
       "      <th>insult</th>\n",
       "      <th>identity_hate</th>\n",
       "    </tr>\n",
       "  </thead>\n",
       "  <tbody>\n",
       "    <tr>\n",
       "      <th>0</th>\n",
       "      <td>0000997932d777bf</td>\n",
       "      <td>Explanation\\nWhy the edits made under my usern...</td>\n",
       "      <td>0</td>\n",
       "      <td>0</td>\n",
       "      <td>0</td>\n",
       "      <td>0</td>\n",
       "      <td>0</td>\n",
       "      <td>0</td>\n",
       "    </tr>\n",
       "    <tr>\n",
       "      <th>1</th>\n",
       "      <td>000103f0d9cfb60f</td>\n",
       "      <td>D'aww! He matches this background colour I'm s...</td>\n",
       "      <td>0</td>\n",
       "      <td>0</td>\n",
       "      <td>0</td>\n",
       "      <td>0</td>\n",
       "      <td>0</td>\n",
       "      <td>0</td>\n",
       "    </tr>\n",
       "    <tr>\n",
       "      <th>2</th>\n",
       "      <td>000113f07ec002fd</td>\n",
       "      <td>Hey man, I'm really not trying to edit war. It...</td>\n",
       "      <td>0</td>\n",
       "      <td>0</td>\n",
       "      <td>0</td>\n",
       "      <td>0</td>\n",
       "      <td>0</td>\n",
       "      <td>0</td>\n",
       "    </tr>\n",
       "    <tr>\n",
       "      <th>3</th>\n",
       "      <td>0001b41b1c6bb37e</td>\n",
       "      <td>\"\\nMore\\nI can't make any real suggestions on ...</td>\n",
       "      <td>0</td>\n",
       "      <td>0</td>\n",
       "      <td>0</td>\n",
       "      <td>0</td>\n",
       "      <td>0</td>\n",
       "      <td>0</td>\n",
       "    </tr>\n",
       "    <tr>\n",
       "      <th>4</th>\n",
       "      <td>0001d958c54c6e35</td>\n",
       "      <td>You, sir, are my hero. Any chance you remember...</td>\n",
       "      <td>0</td>\n",
       "      <td>0</td>\n",
       "      <td>0</td>\n",
       "      <td>0</td>\n",
       "      <td>0</td>\n",
       "      <td>0</td>\n",
       "    </tr>\n",
       "  </tbody>\n",
       "</table>\n",
       "</div>"
      ],
      "text/plain": [
       "                 id                                       comment_text  toxic  \\\n",
       "0  0000997932d777bf  Explanation\\nWhy the edits made under my usern...      0   \n",
       "1  000103f0d9cfb60f  D'aww! He matches this background colour I'm s...      0   \n",
       "2  000113f07ec002fd  Hey man, I'm really not trying to edit war. It...      0   \n",
       "3  0001b41b1c6bb37e  \"\\nMore\\nI can't make any real suggestions on ...      0   \n",
       "4  0001d958c54c6e35  You, sir, are my hero. Any chance you remember...      0   \n",
       "\n",
       "   severe_toxic  obscene  threat  insult  identity_hate  \n",
       "0             0        0       0       0              0  \n",
       "1             0        0       0       0              0  \n",
       "2             0        0       0       0              0  \n",
       "3             0        0       0       0              0  \n",
       "4             0        0       0       0              0  "
      ]
     },
     "execution_count": 26,
     "metadata": {},
     "output_type": "execute_result"
    }
   ],
   "source": [
    "train_df.head()"
   ]
  },
  {
   "cell_type": "code",
   "execution_count": 27,
   "metadata": {
    "collapsed": true
   },
   "outputs": [],
   "source": [
    "test_df = pd.read_csv(\"test.csv\")"
   ]
  },
  {
   "cell_type": "code",
   "execution_count": 28,
   "metadata": {},
   "outputs": [
    {
     "data": {
      "text/html": [
       "<div>\n",
       "<style>\n",
       "    .dataframe thead tr:only-child th {\n",
       "        text-align: right;\n",
       "    }\n",
       "\n",
       "    .dataframe thead th {\n",
       "        text-align: left;\n",
       "    }\n",
       "\n",
       "    .dataframe tbody tr th {\n",
       "        vertical-align: top;\n",
       "    }\n",
       "</style>\n",
       "<table border=\"1\" class=\"dataframe\">\n",
       "  <thead>\n",
       "    <tr style=\"text-align: right;\">\n",
       "      <th></th>\n",
       "      <th>id</th>\n",
       "      <th>comment_text</th>\n",
       "    </tr>\n",
       "  </thead>\n",
       "  <tbody>\n",
       "    <tr>\n",
       "      <th>0</th>\n",
       "      <td>00001cee341fdb12</td>\n",
       "      <td>Yo bitch Ja Rule is more succesful then you'll...</td>\n",
       "    </tr>\n",
       "    <tr>\n",
       "      <th>1</th>\n",
       "      <td>0000247867823ef7</td>\n",
       "      <td>== From RfC == \\n\\n The title is fine as it is...</td>\n",
       "    </tr>\n",
       "    <tr>\n",
       "      <th>2</th>\n",
       "      <td>00013b17ad220c46</td>\n",
       "      <td>\" \\n\\n == Sources == \\n\\n * Zawe Ashton on Lap...</td>\n",
       "    </tr>\n",
       "    <tr>\n",
       "      <th>3</th>\n",
       "      <td>00017563c3f7919a</td>\n",
       "      <td>:If you have a look back at the source, the in...</td>\n",
       "    </tr>\n",
       "    <tr>\n",
       "      <th>4</th>\n",
       "      <td>00017695ad8997eb</td>\n",
       "      <td>I don't anonymously edit articles at all.</td>\n",
       "    </tr>\n",
       "  </tbody>\n",
       "</table>\n",
       "</div>"
      ],
      "text/plain": [
       "                 id                                       comment_text\n",
       "0  00001cee341fdb12  Yo bitch Ja Rule is more succesful then you'll...\n",
       "1  0000247867823ef7  == From RfC == \\n\\n The title is fine as it is...\n",
       "2  00013b17ad220c46  \" \\n\\n == Sources == \\n\\n * Zawe Ashton on Lap...\n",
       "3  00017563c3f7919a  :If you have a look back at the source, the in...\n",
       "4  00017695ad8997eb          I don't anonymously edit articles at all."
      ]
     },
     "execution_count": 28,
     "metadata": {},
     "output_type": "execute_result"
    }
   ],
   "source": [
    "test_df.head()"
   ]
  },
  {
   "cell_type": "code",
   "execution_count": 29,
   "metadata": {},
   "outputs": [
    {
     "data": {
      "text/plain": [
       "(153164, 2)"
      ]
     },
     "execution_count": 29,
     "metadata": {},
     "output_type": "execute_result"
    }
   ],
   "source": [
    "test_df.shape"
   ]
  },
  {
   "cell_type": "markdown",
   "metadata": {},
   "source": [
    "## Use NLTK to Tokenize "
   ]
  },
  {
   "cell_type": "code",
   "execution_count": 31,
   "metadata": {},
   "outputs": [],
   "source": [
    "from nltk.tokenize import word_tokenize"
   ]
  },
  {
   "cell_type": "code",
   "execution_count": 32,
   "metadata": {
    "collapsed": true
   },
   "outputs": [],
   "source": [
    "train_text = train_df['comment_text']\n",
    "test_text = test_df['comment_text']"
   ]
  },
  {
   "cell_type": "code",
   "execution_count": 35,
   "metadata": {},
   "outputs": [
    {
     "data": {
      "text/plain": [
       "'`` == Sources == * Zawe Ashton on Lapland — / ``'"
      ]
     },
     "execution_count": 35,
     "metadata": {},
     "output_type": "execute_result"
    }
   ],
   "source": [
    "\" \".join(word_tokenize(test_text[2]))"
   ]
  },
  {
   "cell_type": "code",
   "execution_count": 66,
   "metadata": {
    "collapsed": true
   },
   "outputs": [],
   "source": [
    "def tokenizeAndSave(text, outfile):\n",
    "    \"\"\"\n",
    "    Tokenize the input text and save the re-joined (by space) tokens as sentences\n",
    "    \n",
    "    Input:\n",
    "        text: a list of sentences\n",
    "        outfile: a output file to stored the re-joined (by space) tokens\n",
    "    Output:\n",
    "        none\n",
    "    \"\"\"\n",
    "    with open(outfile, \"w\") as f:\n",
    "        for sent in text:\n",
    "            toks = word_tokenize(sent)\n",
    "            toks_lower = [t.lower() for t in toks]\n",
    "            f.write(\" \".join(toks_lower) + \"\\n\")\n",
    "            \n",
    "    f.close()    "
   ]
  },
  {
   "cell_type": "code",
   "execution_count": 67,
   "metadata": {},
   "outputs": [],
   "source": [
    "tokenizeAndSave(train_text, \"train_sentences.tokenized\")"
   ]
  },
  {
   "cell_type": "code",
   "execution_count": 68,
   "metadata": {
    "collapsed": true
   },
   "outputs": [],
   "source": [
    "tokenizeAndSave(test_text, \"test_sentences.tokenized\")"
   ]
  },
  {
   "cell_type": "markdown",
   "metadata": {},
   "source": [
    "## Clean up the Sentences"
   ]
  },
  {
   "cell_type": "code",
   "execution_count": 69,
   "metadata": {
    "collapsed": true
   },
   "outputs": [],
   "source": [
    "import re\n",
    "def cleanUpSentences(in_file, out_file):\n",
    "    \"\"\"\n",
    "    Replace words with digits, useless symbols,... to NUM and empty in train set....\"\n",
    "    \n",
    "    Input:\n",
    "        in_file: the input file containing the sentences for cleaning up\n",
    "        out_file: the output file to store the cleaned sentences\n",
    "    Output:\n",
    "        None\n",
    "    \"\"\"\n",
    "    f_in = open(in_file, \"r\")\n",
    "    f_out = open(out_file, \"w\")\n",
    "\n",
    "    while True:\n",
    "        sentence = f_in.readline()\n",
    "        if sentence == '':\n",
    "            break\n",
    "\n",
    "        \n",
    "        # substitute words with digits to NUM\n",
    "        sentence = re.sub(r\"[\\w]*[\\d]+[\\d.-]+[\\w]*|\\d\", \"NUM\", sentence)\n",
    "        \n",
    "        # substitute symbols to empty\n",
    "        sentence = re.sub(r\"[!\\\"#$%&()\\*+,-\\./:;<=>?@\\[\\\\\\]^_`{|}~\\t\\n]\", \" \", sentence)\n",
    "                          \n",
    "        # substitute 'm to am\n",
    "        sentence = re.sub(r\"'m\", \"am\", sentence)\n",
    "        \n",
    "        # substitute .... to empty\n",
    "        sentence = re.sub(r\"[..][.]+\", \"\", sentence)\n",
    "\n",
    "        # substitute --- to empty\n",
    "        sentence = re.sub(r\"[--][-]+\", \"\", sentence)\n",
    "\n",
    "        # substitute '' to empty\n",
    "        sentence = re.sub(r\"''\", \"\", sentence)\n",
    "\n",
    "        # substitute ' to empty\n",
    "        sentence = re.sub(r\"'\", \"\", sentence)\n",
    "\n",
    "        # substitute -lrb- to empty\n",
    "        sentence = re.sub(r\"[-]lrb[-]\", \"\", sentence)\n",
    "\n",
    "        # substitute -rrb- to empty\n",
    "        sentence = re.sub(r\"[-]rrb[-]\", \"\", sentence)\n",
    "\n",
    "        # substitute . to empty\n",
    "        sentence = re.sub(r\"\\s[.]\", \"\", sentence)\n",
    "\n",
    "\n",
    "        f_out.write(sentence.strip() + \"\\n\")\n",
    "\n",
    "    f_in.close()\n",
    "    f_out.close()"
   ]
  },
  {
   "cell_type": "code",
   "execution_count": 70,
   "metadata": {},
   "outputs": [],
   "source": [
    "cleanUpSentences(\"train_sentences.tokenized\", \"train_sentences.clean\")"
   ]
  },
  {
   "cell_type": "code",
   "execution_count": 71,
   "metadata": {
    "collapsed": true
   },
   "outputs": [],
   "source": [
    "cleanUpSentences(\"test_sentences.tokenized\", \"test_sentences.clean\")"
   ]
  },
  {
   "cell_type": "markdown",
   "metadata": {},
   "source": [
    "# Coun the unique words after cleaning"
   ]
  },
  {
   "cell_type": "code",
   "execution_count": 72,
   "metadata": {
    "collapsed": true
   },
   "outputs": [],
   "source": [
    "import operator\n",
    "def uniqueWord2Count(in_file):\n",
    "    \"\"\"\n",
    "    Get the map from the unique words in the input file to their frequencies\n",
    "    \n",
    "    Input:\n",
    "        in_file: text file containing sentences\n",
    "    Output:\n",
    "        sorted_word2Count: a map from unique words to frequences \n",
    "                    sorted by frequences descending\n",
    "    \"\"\"\n",
    "    word2count = {}\n",
    "\n",
    "    f = open(in_file, \"r\")\n",
    "    \n",
    "    while True:\n",
    "        sentence = f.readline()\n",
    "        if sentence == '':\n",
    "            break\n",
    "    \n",
    "        words = sentence.strip().split()\n",
    "    \n",
    "        for word in words:\n",
    "            if word not in word2count:\n",
    "                word2count[word] = 1\n",
    "            else:\n",
    "                word2count[word] = word2count[word] + 1\n",
    "    f.close()\n",
    "\n",
    "    # sort the words by their frequencies\n",
    "\n",
    "    #sorted_word2count = sorted(word2count.items(), \\\n",
    "    #                           key=operator.itemgetter(1),reverse=True)\n",
    "\n",
    "    sorted_word2count = sorted(word2count.items(), \\\n",
    "                               key=operator.itemgetter(1))\n",
    "\n",
    "    return sorted_word2count"
   ]
  },
  {
   "cell_type": "code",
   "execution_count": 77,
   "metadata": {},
   "outputs": [
    {
     "name": "stdout",
     "output_type": "stream",
     "text": [
      "6007\n"
     ]
    }
   ],
   "source": [
    "sorted_word2count = uniqueWord2Count(\"train_sentences.clean\")\n",
    "\n",
    "count = 0\n",
    "for w, c in sorted_word2count:\n",
    "    # print(\"%s\\t%s\" % (w, c))\n",
    "    if c >= 100:\n",
    "        count += 1\n",
    "\n",
    "print(count)"
   ]
  },
  {
   "cell_type": "code",
   "execution_count": 75,
   "metadata": {
    "collapsed": true
   },
   "outputs": [],
   "source": [
    "# save the all uniques words from the train_sentence_clean\n",
    "train_clean_all_words = \"train_clean_all_words.txt\"\n",
    "\n",
    "f = open(train_clean_all_words, \"w\")\n",
    "for w, c in sorted_word2count:\n",
    "    if c >= 100:\n",
    "        f.write(\"%s\\t%s\\n\" % (w, c))\n",
    "f.close()"
   ]
  },
  {
   "cell_type": "markdown",
   "metadata": {},
   "source": [
    "# ===================================="
   ]
  },
  {
   "cell_type": "markdown",
   "metadata": {},
   "source": [
    "# Test Keras Text Preprocessing"
   ]
  },
  {
   "cell_type": "code",
   "execution_count": 12,
   "metadata": {},
   "outputs": [
    {
     "data": {
      "text/plain": [
       "'\" \\n\\n == Sources == \\n\\n * Zawe Ashton on Lapland —  /  \"'"
      ]
     },
     "execution_count": 12,
     "metadata": {},
     "output_type": "execute_result"
    }
   ],
   "source": [
    "test_df['comment_text'].iloc[2]"
   ]
  },
  {
   "cell_type": "code",
   "execution_count": 16,
   "metadata": {},
   "outputs": [
    {
     "name": "stderr",
     "output_type": "stream",
     "text": [
      "Using TensorFlow backend.\n"
     ]
    }
   ],
   "source": [
    "from keras.preprocessing.text import Tokenizer\n",
    "tokenizer = Tokenizer(num_words = 100)"
   ]
  },
  {
   "cell_type": "code",
   "execution_count": 17,
   "metadata": {
    "collapsed": true
   },
   "outputs": [],
   "source": [
    "test_sent = test_df['comment_text'].iloc[2]"
   ]
  },
  {
   "cell_type": "code",
   "execution_count": 18,
   "metadata": {},
   "outputs": [
    {
     "data": {
      "text/plain": [
       "[[1, 2, 3, 4, 5, 6]]"
      ]
     },
     "execution_count": 18,
     "metadata": {},
     "output_type": "execute_result"
    }
   ],
   "source": [
    "tokenizer.fit_on_texts([test_sent])\n",
    "tokenizer.texts_to_sequences([test_sent])"
   ]
  },
  {
   "cell_type": "code",
   "execution_count": 19,
   "metadata": {},
   "outputs": [
    {
     "data": {
      "text/plain": [
       "{'ashton': 3, 'lapland': 5, 'on': 4, 'sources': 1, 'zawe': 2, '—': 6}"
      ]
     },
     "execution_count": 19,
     "metadata": {},
     "output_type": "execute_result"
    }
   ],
   "source": [
    "tokenizer.word_index"
   ]
  },
  {
   "cell_type": "code",
   "execution_count": 20,
   "metadata": {
    "collapsed": true
   },
   "outputs": [],
   "source": [
    "from keras.preprocessing.sequence import pad_sequences"
   ]
  },
  {
   "cell_type": "code",
   "execution_count": 21,
   "metadata": {},
   "outputs": [
    {
     "data": {
      "text/plain": [
       "array([[1, 2, 3, 4, 5, 6, 0, 0, 0, 0, 0, 0, 0, 0, 0, 0, 0, 0, 0, 0, 0, 0,\n",
       "        0, 0, 0]], dtype=int32)"
      ]
     },
     "execution_count": 21,
     "metadata": {},
     "output_type": "execute_result"
    }
   ],
   "source": [
    "pad_sequences(tokenizer.texts_to_sequences([test_sent]), maxlen = 25, padding=\"post\")"
   ]
  },
  {
   "cell_type": "markdown",
   "metadata": {},
   "source": [
    "## Count the Unique Words from the Sentences"
   ]
  },
  {
   "cell_type": "code",
   "execution_count": 1,
   "metadata": {
    "collapsed": true
   },
   "outputs": [],
   "source": [
    "train_sentence_path = \"data/seq2seq/train_sentences.txt\"\n",
    "test_sentence_path = \"data/seq2seq/test_sentences.txt\""
   ]
  },
  {
   "cell_type": "code",
   "execution_count": 3,
   "metadata": {
    "collapsed": true
   },
   "outputs": [],
   "source": [
    "train_word2count = {}\n",
    "\n",
    "f = open(train_sentence_path, \"r\")\n",
    "\n",
    "while True:\n",
    "    sentence = f.readline()\n",
    "    if sentence == '':\n",
    "        break\n",
    "    \n",
    "    words = sentence.strip().split()\n",
    "    \n",
    "    for word in words:\n",
    "        if word not in train_word2count:\n",
    "            train_word2count[word] = 1\n",
    "        else:\n",
    "            train_word2count[word] = train_word2count[word] + 1\n",
    "f.close()"
   ]
  },
  {
   "cell_type": "code",
   "execution_count": 18,
   "metadata": {},
   "outputs": [
    {
     "data": {
      "text/plain": [
       "220460"
      ]
     },
     "execution_count": 18,
     "metadata": {},
     "output_type": "execute_result"
    }
   ],
   "source": [
    "len(train_word2count)"
   ]
  },
  {
   "cell_type": "code",
   "execution_count": 19,
   "metadata": {},
   "outputs": [
    {
     "data": {
      "text/plain": [
       "29304"
      ]
     },
     "execution_count": 19,
     "metadata": {},
     "output_type": "execute_result"
    }
   ],
   "source": [
    "train_word2count['$']"
   ]
  },
  {
   "cell_type": "code",
   "execution_count": 21,
   "metadata": {
    "collapsed": true
   },
   "outputs": [],
   "source": [
    "# sort the words by their frequencies\n",
    "import operator\n",
    "sorted_word2count = sorted(train_word2count.items(), key=operator.itemgetter(1),reverse=True)\n",
    "\n",
    "count = 0\n",
    "for w, c in sorted_word2count:\n",
    "    print \"%s\\t%s\" % (w, c)\n",
    "    count += 1\n",
    "    if count > 10:\n",
    "        break"
   ]
  },
  {
   "cell_type": "code",
   "execution_count": 26,
   "metadata": {
    "collapsed": true
   },
   "outputs": [],
   "source": [
    "# save the all uniques words from the train sentences\n",
    "train_all_words = \"data/seq2seq/train_all_words.txt\"\n",
    "f = open(train_all_words, \"w\")\n",
    "for w, c in sorted_word2count:\n",
    "    f.write(\"%s\\t%s\\n\" % (w, c))\n",
    "f.close()"
   ]
  },
  {
   "cell_type": "code",
   "execution_count": 121,
   "metadata": {
    "collapsed": true
   },
   "outputs": [],
   "source": [
    "import re\n",
    "sorted_symbol2count = []\n",
    "for w, c in sorted_word2count:\n",
    "    match = re.search(r'[\\w]*[\\d]+[\\d.-]+[\\w]*', w)\n",
    "    if match:\n",
    "        sorted_symbol2count.append((w, c))"
   ]
  },
  {
   "cell_type": "code",
   "execution_count": 122,
   "metadata": {},
   "outputs": [
    {
     "data": {
      "text/plain": [
       "17041"
      ]
     },
     "execution_count": 122,
     "metadata": {},
     "output_type": "execute_result"
    }
   ],
   "source": [
    "len(sorted_symbol2count)"
   ]
  },
  {
   "cell_type": "code",
   "execution_count": 118,
   "metadata": {},
   "outputs": [
    {
     "data": {
      "text/plain": [
       "[('10018', 32),\n",
       " ('2-family', 32),\n",
       " ('5,500', 32),\n",
       " ('14.95', 32),\n",
       " ('265-8133', 32)]"
      ]
     },
     "execution_count": 118,
     "metadata": {},
     "output_type": "execute_result"
    }
   ],
   "source": [
    "sorted_symbol2count[1000:1005]"
   ]
  },
  {
   "cell_type": "code",
   "execution_count": 148,
   "metadata": {
    "collapsed": true
   },
   "outputs": [],
   "source": [
    "sorted_special2count = []\n",
    "for w, c in sorted_word2count:\n",
    "    match = re.search(r'i\\'m', w)\n",
    "    if match:\n",
    "        sorted_special2count.append((w, c))"
   ]
  },
  {
   "cell_type": "code",
   "execution_count": 149,
   "metadata": {},
   "outputs": [
    {
     "data": {
      "text/plain": [
       "0"
      ]
     },
     "execution_count": 149,
     "metadata": {},
     "output_type": "execute_result"
    }
   ],
   "source": [
    "len(sorted_special2count)"
   ]
  },
  {
   "cell_type": "markdown",
   "metadata": {},
   "source": [
    "## Coun the unique words after cleaning"
   ]
  },
  {
   "cell_type": "code",
   "execution_count": 190,
   "metadata": {
    "collapsed": true
   },
   "outputs": [],
   "source": [
    "train_word2count = {}\n",
    "\n",
    "f = open(train_sentence_clean_path, \"r\")\n",
    "\n",
    "while True:\n",
    "    sentence = f.readline()\n",
    "    if sentence == '':\n",
    "        break\n",
    "    \n",
    "    words = sentence.strip().split()\n",
    "    \n",
    "    for word in words:\n",
    "        if word not in train_word2count:\n",
    "            train_word2count[word] = 1\n",
    "        else:\n",
    "            train_word2count[word] = train_word2count[word] + 1\n",
    "f.close()"
   ]
  },
  {
   "cell_type": "code",
   "execution_count": 191,
   "metadata": {},
   "outputs": [
    {
     "data": {
      "text/plain": [
       "203464"
      ]
     },
     "execution_count": 191,
     "metadata": {},
     "output_type": "execute_result"
    }
   ],
   "source": [
    "len(train_word2count)"
   ]
  },
  {
   "cell_type": "code",
   "execution_count": 192,
   "metadata": {
    "scrolled": true
   },
   "outputs": [
    {
     "name": "stdout",
     "output_type": "stream",
     "text": [
      ",\t1937005\n",
      "the\t1098862\n",
      "and\t709989\n",
      "of\t638332\n",
      "in\t581732\n",
      "a\t438584\n",
      "to\t408159\n",
      "NUM\t331761\n",
      "s\t229116\n",
      "for\t157843\n",
      "that\t155391\n"
     ]
    }
   ],
   "source": [
    "# sort the words by their frequencies\n",
    "import operator\n",
    "sorted_word2count = sorted(train_word2count.items(), key=operator.itemgetter(1),reverse=True)\n",
    "\n",
    "count = 0\n",
    "for w, c in sorted_word2count:\n",
    "    print \"%s\\t%s\" % (w, c)\n",
    "    count += 1\n",
    "    if count > 10:\n",
    "        break"
   ]
  },
  {
   "cell_type": "code",
   "execution_count": 193,
   "metadata": {
    "collapsed": true
   },
   "outputs": [],
   "source": [
    "# save the all uniques words from the train_sentence_clean\n",
    "train_clean_all_words = \"data/seq2seq/train_clean_all_words.txt\"\n",
    "f = open(train_clean_all_words, \"w\")\n",
    "for w, c in sorted_word2count:\n",
    "    f.write(\"%s\\t%s\\n\" % (w, c))\n",
    "f.close()"
   ]
  },
  {
   "cell_type": "code",
   "execution_count": 194,
   "metadata": {
    "collapsed": true
   },
   "outputs": [],
   "source": [
    "test_word2count = {}\n",
    "\n",
    "f = open(test_sentence_clean_path, \"r\")\n",
    "\n",
    "while True:\n",
    "    sentence = f.readline()\n",
    "    if sentence == '':\n",
    "        break\n",
    "    \n",
    "    words = sentence.strip().split()\n",
    "    \n",
    "    for word in words:\n",
    "        if word not in test_word2count:\n",
    "            test_word2count[word] = 1\n",
    "        else:\n",
    "            test_word2count[word] = test_word2count[word] + 1\n",
    "f.close()"
   ]
  },
  {
   "cell_type": "code",
   "execution_count": 195,
   "metadata": {},
   "outputs": [
    {
     "data": {
      "text/plain": [
       "76858"
      ]
     },
     "execution_count": 195,
     "metadata": {},
     "output_type": "execute_result"
    }
   ],
   "source": [
    "len(test_word2count)"
   ]
  },
  {
   "cell_type": "code",
   "execution_count": 196,
   "metadata": {},
   "outputs": [
    {
     "name": "stdout",
     "output_type": "stream",
     "text": [
      ",\t617689\n",
      "the\t322699\n",
      "and\t237388\n",
      "of\t193819\n",
      "in\t156377\n",
      "a\t127134\n",
      "to\t116663\n",
      "NUM\t94805\n",
      "s\t62914\n",
      ";\t52423\n",
      "for\t46862\n"
     ]
    }
   ],
   "source": [
    "# sort the words by their frequencies\n",
    "import operator\n",
    "sorted_word2count = sorted(test_word2count.items(), key=operator.itemgetter(1),reverse=True)\n",
    "\n",
    "count = 0\n",
    "for w, c in sorted_word2count:\n",
    "    print \"%s\\t%s\" % (w, c)\n",
    "    count += 1\n",
    "    if count > 10:\n",
    "        break"
   ]
  },
  {
   "cell_type": "code",
   "execution_count": 197,
   "metadata": {
    "collapsed": true
   },
   "outputs": [],
   "source": [
    "# save the all uniques words from the train_sentence_clean\n",
    "test_clean_all_words = \"data/seq2seq/test_clean_all_words.txt\"\n",
    "f = open(test_clean_all_words, \"w\")\n",
    "for w, c in sorted_word2count:\n",
    "    f.write(\"%s\\t%s\\n\" % (w, c))\n",
    "f.close()"
   ]
  },
  {
   "cell_type": "code",
   "execution_count": null,
   "metadata": {
    "collapsed": true
   },
   "outputs": [],
   "source": []
  }
 ],
 "metadata": {
  "kernelspec": {
   "display_name": "Python 3",
   "language": "python",
   "name": "python3"
  },
  "language_info": {
   "codemirror_mode": {
    "name": "ipython",
    "version": 3
   },
   "file_extension": ".py",
   "mimetype": "text/x-python",
   "name": "python",
   "nbconvert_exporter": "python",
   "pygments_lexer": "ipython3",
   "version": "3.6.3"
  }
 },
 "nbformat": 4,
 "nbformat_minor": 2
}
